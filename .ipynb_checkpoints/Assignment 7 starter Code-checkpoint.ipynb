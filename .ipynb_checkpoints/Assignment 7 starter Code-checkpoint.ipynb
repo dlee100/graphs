{
 "cells": [
  {
   "cell_type": "markdown",
   "metadata": {},
   "source": [
    "# IT309 - Assignment 7, Part (2) starter code"
   ]
  },
  {
   "cell_type": "markdown",
   "metadata": {},
   "source": [
    "### The code below is the Graph class from the textbook and provided by Wiley.  \n",
    "### Use it for Assignment 7, part (2).  I've demonstrated below how to create a graph with four vertices.  \n",
    "### the four are part of the seven vertex graph from the slides.  \n",
    "### View the examples in the cells and create the project schedule graph from the problem using the milestones as nodes and activities as weighted edges.  \n",
    "\n",
    "### After creating the graph try some of the methods to see how they work.  \n",
    "### Assignment A8, posted next week, will involve writing code to find the critical path in the project schedule graph.  \n",
    "### Your code will work with the graph you create below.  I will provide more guidance with the A8 specification.  \n",
    "### Also note that I've posted additional graph code from the textbook in Week 12 Jupyter notebook area and PQ was posted in Week 8.\n"
   ]
  },
  {
   "cell_type": "markdown",
   "metadata": {},
   "source": [
    "### IT309 - Graph code from Wiley"
   ]
  },
  {
   "cell_type": "code",
   "execution_count": 1,
   "metadata": {},
   "outputs": [],
   "source": [
    "# Copyright 2013, Michael H. Goldwasser\n",
    "#\n",
    "# Developed for use with the book:\n",
    "#\n",
    "#    Data Structures and Algorithms in Python\n",
    "#    Michael T. Goodrich, Roberto Tamassia, and Michael H. Goldwasser\n",
    "#    John Wiley & Sons, 2013\n",
    "#\n",
    "# This program is free software: you can redistribute it and/or modify\n",
    "# it under the terms of the GNU General Public License as published by\n",
    "# the Free Software Foundation, either version 3 of the License, or\n",
    "# (at your option) any later version.\n",
    "#\n",
    "# This program is distributed in the hope that it will be useful,\n",
    "# but WITHOUT ANY WARRANTY; without even the implied warranty of\n",
    "# MERCHANTABILITY or FITNESS FOR A PARTICULAR PURPOSE.  See the\n",
    "# GNU General Public License for more details.\n",
    "#\n",
    "# You should have received a copy of the GNU General Public License\n",
    "# along with this program.  If not, see <http://www.gnu.org/licenses/>.\n",
    "\n",
    "class Graph:\n",
    "  \"\"\"Representation of a simple graph using an adjacency map.\"\"\"\n",
    "\n",
    "  #------------------------- nested Vertex class -------------------------\n",
    "  class Vertex:\n",
    "    \"\"\"Lightweight vertex structure for a graph.\"\"\"\n",
    "    __slots__ = '_element'\n",
    "  \n",
    "    def __init__(self, x):\n",
    "      \"\"\"Do not call constructor directly. Use Graph's insert_vertex(x).\"\"\"\n",
    "      self._element = x\n",
    "  \n",
    "    def element(self):\n",
    "      \"\"\"Return element associated with this vertex.\"\"\"\n",
    "      return self._element\n",
    "  \n",
    "    def __hash__(self):         # will allow vertex to be a map/set key\n",
    "      return hash(id(self))\n",
    "\n",
    "    def __str__(self):\n",
    "      return str(self._element)\n",
    "    \n",
    "  #------------------------- nested Edge class -------------------------\n",
    "  class Edge:\n",
    "    \"\"\"Lightweight edge structure for a graph.\"\"\"\n",
    "    __slots__ = '_origin', '_destination', '_element'\n",
    "  \n",
    "    def __init__(self, u, v, x):\n",
    "      \"\"\"Do not call constructor directly. Use Graph's insert_edge(u,v,x).\"\"\"\n",
    "      self._origin = u\n",
    "      self._destination = v\n",
    "      self._element = x\n",
    "  \n",
    "    def endpoints(self):\n",
    "      \"\"\"Return (u,v) tuple for vertices u and v.\"\"\"\n",
    "      return (self._origin, self._destination)\n",
    "  \n",
    "    def opposite(self, v):\n",
    "      \"\"\"Return the vertex that is opposite v on this edge.\"\"\"\n",
    "      if not isinstance(v, Graph.Vertex):\n",
    "        raise TypeError('v must be a Vertex')\n",
    "      return self._destination if v is self._origin else self._origin\n",
    "      raise ValueError('v not incident to edge')\n",
    "  \n",
    "    def element(self):\n",
    "      \"\"\"Return element associated with this edge.\"\"\"\n",
    "      return self._element\n",
    "  \n",
    "    def __hash__(self):         # will allow edge to be a map/set key\n",
    "      return hash( (self._origin, self._destination) )\n",
    "\n",
    "    def __str__(self):\n",
    "      return '({0},{1},{2})'.format(self._origin,self._destination,self._element)\n",
    "    \n",
    "  #------------------------- Graph methods -------------------------\n",
    "  def __init__(self, directed=False):\n",
    "    \"\"\"Create an empty graph (undirected, by default).\n",
    "\n",
    "    Graph is directed if optional paramter is set to True.\n",
    "    \"\"\"\n",
    "    self._outgoing = {}\n",
    "    # only create second map for directed graph; use alias for undirected\n",
    "    self._incoming = {} if directed else self._outgoing\n",
    "\n",
    "  def _validate_vertex(self, v):\n",
    "    \"\"\"Verify that v is a Vertex of this graph.\"\"\"\n",
    "    if not isinstance(v, self.Vertex):\n",
    "      raise TypeError('Vertex expected')\n",
    "    if v not in self._outgoing:\n",
    "      raise ValueError('Vertex does not belong to this graph.')\n",
    "    \n",
    "  def is_directed(self):\n",
    "    \"\"\"Return True if this is a directed graph; False if undirected.\n",
    "\n",
    "    Property is based on the original declaration of the graph, not its contents.\n",
    "    \"\"\"\n",
    "    return self._incoming is not self._outgoing # directed if maps are distinct\n",
    "\n",
    "  def vertex_count(self):\n",
    "    \"\"\"Return the number of vertices in the graph.\"\"\"\n",
    "    return len(self._outgoing)\n",
    "\n",
    "  def vertices(self):\n",
    "    \"\"\"Return an iteration of all vertices of the graph.\"\"\"\n",
    "    return self._outgoing.keys()\n",
    "\n",
    "  def edge_count(self):\n",
    "    \"\"\"Return the number of edges in the graph.\"\"\"\n",
    "    total = sum(len(self._outgoing[v]) for v in self._outgoing)\n",
    "    # for undirected graphs, make sure not to double-count edges\n",
    "    return total if self.is_directed() else total // 2\n",
    "\n",
    "  def edges(self):\n",
    "    \"\"\"Return a set of all edges of the graph.\"\"\"\n",
    "    result = set()       # avoid double-reporting edges of undirected graph\n",
    "    for secondary_map in self._outgoing.values():\n",
    "      result.update(secondary_map.values())    # add edges to resulting set\n",
    "    return result\n",
    "\n",
    "  def get_edge(self, u, v):\n",
    "    \"\"\"Return the edge from u to v, or None if not adjacent.\"\"\"\n",
    "    self._validate_vertex(u)\n",
    "    self._validate_vertex(v)\n",
    "    return self._outgoing[u].get(v)        # returns None if v not adjacent\n",
    "\n",
    "  def degree(self, v, outgoing=True):   \n",
    "    \"\"\"Return number of (outgoing) edges incident to vertex v in the graph.\n",
    "\n",
    "    If graph is directed, optional parameter used to count incoming edges.\n",
    "    \"\"\"\n",
    "    self._validate_vertex(v)\n",
    "    adj = self._outgoing if outgoing else self._incoming\n",
    "    return len(adj[v])\n",
    "\n",
    "  def incident_edges(self, v, outgoing=True):   \n",
    "    \"\"\"Return all (outgoing) edges incident to vertex v in the graph.\n",
    "\n",
    "    If graph is directed, optional parameter used to request incoming edges.\n",
    "    \"\"\"\n",
    "    self._validate_vertex(v)\n",
    "    adj = self._outgoing if outgoing else self._incoming\n",
    "    for edge in adj[v].values():\n",
    "      yield edge\n",
    "\n",
    "  def insert_vertex(self, x=None):\n",
    "    \"\"\"Insert and return a new Vertex with element x.\"\"\"\n",
    "    v = self.Vertex(x)\n",
    "    self._outgoing[v] = {}\n",
    "    if self.is_directed():\n",
    "      self._incoming[v] = {}        # need distinct map for incoming edges\n",
    "    return v\n",
    "      \n",
    "  def insert_edge(self, u, v, x=None):\n",
    "    \"\"\"Insert and return a new Edge from u to v with auxiliary element x.\n",
    "\n",
    "    Raise a ValueError if u and v are not vertices of the graph.\n",
    "    Raise a ValueError if u and v are already adjacent.\n",
    "    \"\"\"\n",
    "    if self.get_edge(u, v) is not None:      # includes error checking\n",
    "      raise ValueError('u and v are already adjacent')\n",
    "    e = self.Edge(u, v, x)\n",
    "    self._outgoing[u][v] = e\n",
    "    self._incoming[v][u] = e\n"
   ]
  },
  {
   "cell_type": "code",
   "execution_count": 8,
   "metadata": {},
   "outputs": [],
   "source": [
    "G1 = Graph(directed = True)\n"
   ]
  },
  {
   "cell_type": "code",
   "execution_count": 9,
   "metadata": {},
   "outputs": [
    {
     "data": {
      "text/plain": [
       "__main__.Graph"
      ]
     },
     "execution_count": 9,
     "metadata": {},
     "output_type": "execute_result"
    }
   ],
   "source": [
    "type(G1)"
   ]
  },
  {
   "cell_type": "code",
   "execution_count": 10,
   "metadata": {},
   "outputs": [],
   "source": [
    "V2 = G1.insert_vertex('V2')\n",
    "V0 = G1.insert_vertex('V0')\n",
    "V3 = G1.insert_vertex('V3')\n",
    "V5 = G1.insert_vertex('V5')"
   ]
  },
  {
   "cell_type": "code",
   "execution_count": 11,
   "metadata": {},
   "outputs": [
    {
     "data": {
      "text/plain": [
       "4"
      ]
     },
     "execution_count": 11,
     "metadata": {},
     "output_type": "execute_result"
    }
   ],
   "source": [
    "G1.vertex_count()"
   ]
  },
  {
   "cell_type": "code",
   "execution_count": 12,
   "metadata": {},
   "outputs": [],
   "source": [
    "G1.insert_edge(V2, V0, 4)\n",
    "G1.insert_edge(V0, V3, 1)  \n",
    "G1.insert_edge(V2, V5, 5)\n",
    "G1.insert_edge(V3, V5, 8)               "
   ]
  },
  {
   "cell_type": "code",
   "execution_count": 13,
   "metadata": {},
   "outputs": [
    {
     "name": "stdout",
     "output_type": "stream",
     "text": [
      "(V3,V5,8)\n",
      "(V2,V0,4)\n",
      "(V2,V5,5)\n",
      "(V0,V3,1)\n"
     ]
    }
   ],
   "source": [
    "for n in G1.edges():\n",
    "    print(n)"
   ]
  },
  {
   "cell_type": "code",
   "execution_count": 14,
   "metadata": {},
   "outputs": [
    {
     "data": {
      "text/plain": [
       "1"
      ]
     },
     "execution_count": 14,
     "metadata": {},
     "output_type": "execute_result"
    }
   ],
   "source": [
    "G1.degree(V3)"
   ]
  },
  {
   "cell_type": "code",
   "execution_count": 15,
   "metadata": {},
   "outputs": [
    {
     "data": {
      "text/plain": [
       "2"
      ]
     },
     "execution_count": 15,
     "metadata": {},
     "output_type": "execute_result"
    }
   ],
   "source": [
    "G1.degree(V2)"
   ]
  },
  {
   "cell_type": "code",
   "execution_count": 16,
   "metadata": {},
   "outputs": [
    {
     "name": "stdout",
     "output_type": "stream",
     "text": [
      "V2 None\n",
      "V0 (V2,V0,4)\n",
      "V3 None\n",
      "V5 (V2,V5,5)\n"
     ]
    }
   ],
   "source": [
    "for n in G1._outgoing:\n",
    "    print(n, G1._incoming[n].get(V2))"
   ]
  },
  {
   "cell_type": "code",
   "execution_count": null,
   "metadata": {},
   "outputs": [],
   "source": []
  }
 ],
 "metadata": {
  "kernelspec": {
   "display_name": "Python 3",
   "language": "python",
   "name": "python3"
  },
  "language_info": {
   "codemirror_mode": {
    "name": "ipython",
    "version": 3
   },
   "file_extension": ".py",
   "mimetype": "text/x-python",
   "name": "python",
   "nbconvert_exporter": "python",
   "pygments_lexer": "ipython3",
   "version": "3.8.5"
  }
 },
 "nbformat": 4,
 "nbformat_minor": 2
}
